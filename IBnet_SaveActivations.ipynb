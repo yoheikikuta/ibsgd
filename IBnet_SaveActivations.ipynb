{
 "cells": [
  {
   "cell_type": "code",
   "execution_count": 1,
   "metadata": {},
   "outputs": [
    {
     "name": "stderr",
     "output_type": "stream",
     "text": [
      "Using TensorFlow backend.\n"
     ]
    }
   ],
   "source": [
    "import keras\n",
    "import keras.backend as K\n",
    "import tensorflow as tf\n",
    "import numpy as np\n",
    "\n",
    "import utils\n",
    "import loggingreporter \n",
    "\n",
    "cfg = {}\n",
    "cfg['SGD_BATCHSIZE']    = 256\n",
    "cfg['SGD_LEARNINGRATE'] = 0.0004\n",
    "cfg['NUM_EPOCHS']       = 10000\n",
    "cfg['FULL_MI']          = True\n",
    "\n",
    "# cfg['ACTIVATION'] = 'tanh'\n",
    "# cfg['ACTIVATION'] = 'relu'\n",
    "cfg['ACTIVATION'] = 'relu2'\n",
    "# cfg['ACTIVATION'] = 'sigmoid'\n",
    "# cfg['ACTIVATION'] = 'softsign'\n",
    "# cfg['ACTIVATION'] = 'softplus'\n",
    "\n",
    "# How many hidden neurons to put into each of the layers\n",
    "cfg['LAYER_DIMS'] = [10,7,5,4,3] # original IB network\n",
    "ARCH_NAME =  '-'.join(map(str,cfg['LAYER_DIMS']))\n",
    "\n",
    "trn, tst = utils.get_IB_data('2017_12_21_16_51_3_275766')\n",
    "\n",
    "# Where to save activation and weights data\n",
    "cfg['SAVE_DIR'] = 'rawdata/' + cfg['ACTIVATION'] + '_' + ARCH_NAME "
   ]
  },
  {
   "cell_type": "code",
   "execution_count": 2,
   "metadata": {},
   "outputs": [
    {
     "data": {
      "text/plain": [
       "'2.2.4'"
      ]
     },
     "execution_count": 2,
     "metadata": {},
     "output_type": "execute_result"
    }
   ],
   "source": [
    "keras.__version__"
   ]
  },
  {
   "cell_type": "markdown",
   "metadata": {},
   "source": [
    "Understand data."
   ]
  },
  {
   "cell_type": "code",
   "execution_count": 3,
   "metadata": {},
   "outputs": [
    {
     "data": {
      "text/plain": [
       "0"
      ]
     },
     "execution_count": 3,
     "metadata": {},
     "output_type": "execute_result"
    }
   ],
   "source": [
    "trn.y[0]"
   ]
  },
  {
   "cell_type": "code",
   "execution_count": 4,
   "metadata": {},
   "outputs": [
    {
     "data": {
      "text/plain": [
       "array([0, 0, 0, 0, 0, 0, 1, 1, 1, 1, 0, 1], dtype=uint8)"
      ]
     },
     "execution_count": 4,
     "metadata": {},
     "output_type": "execute_result"
    }
   ],
   "source": [
    "trn.X[0]"
   ]
  },
  {
   "cell_type": "code",
   "execution_count": 5,
   "metadata": {},
   "outputs": [],
   "source": [
    "for x, y in zip(trn.X, trn.y):\n",
    "    if 4 == sum(x) and 1 == y:\n",
    "        print(x)"
   ]
  },
  {
   "cell_type": "code",
   "execution_count": 6,
   "metadata": {
    "scrolled": false
   },
   "outputs": [
    {
     "name": "stdout",
     "output_type": "stream",
     "text": [
      "[1 1 0 1 0 1 0 0 0 0 1 0]\n",
      "[0 1 1 0 1 0 1 0 0 0 0 1]\n",
      "[0 0 0 0 1 0 1 1 0 1 0 1]\n",
      "[1 0 0 1 0 1 0 0 0 0 1 1]\n",
      "[0 0 0 1 0 1 0 1 1 0 1 0]\n",
      "[0 1 1 0 1 0 1 0 0 1 0 0]\n",
      "[0 1 1 1 1 0 0 0 0 0 0 1]\n",
      "[0 0 1 1 0 0 0 0 1 1 1 0]\n",
      "[1 1 0 1 0 0 0 0 0 0 1 1]\n",
      "[1 1 1 1 0 0 0 0 0 0 1 0]\n",
      "[1 1 1 1 1 0 0 0 0 0 0 0]\n",
      "[0 0 1 0 1 0 1 1 0 1 0 0]\n",
      "[0 0 1 1 1 0 0 0 1 1 0 0]\n",
      "[0 0 0 0 0 1 1 1 0 0 1 1]\n",
      "[0 1 1 1 1 0 0 0 1 0 0 0]\n",
      "[1 1 1 1 0 0 0 0 1 0 0 0]\n",
      "[1 0 0 0 0 1 0 1 0 0 1 1]\n",
      "[1 0 0 1 0 0 0 1 1 0 1 0]\n",
      "[1 0 0 0 0 1 1 1 0 0 1 0]\n",
      "[0 0 0 0 0 0 1 1 1 1 1 0]\n",
      "[1 1 0 0 0 1 0 0 0 0 1 1]\n",
      "[1 1 0 0 1 0 1 0 0 0 0 1]\n",
      "[1 0 0 1 0 1 0 0 1 0 1 0]\n",
      "[0 0 1 0 0 0 1 1 1 1 0 0]\n",
      "[1 1 0 1 0 1 0 0 0 0 0 1]\n",
      "[1 1 1 0 1 0 0 0 0 0 0 1]\n",
      "[0 0 0 0 0 1 0 1 1 1 1 0]\n",
      "[0 0 1 0 1 0 0 1 1 1 0 0]\n",
      "[1 1 0 1 1 0 0 0 0 0 0 1]\n",
      "[0 0 1 0 1 0 1 0 0 1 0 1]\n",
      "[0 0 0 0 0 1 1 1 0 1 1 0]\n",
      "[0 1 1 1 1 0 0 0 0 1 0 0]\n",
      "[0 1 1 1 0 0 0 0 1 1 0 0]\n",
      "[1 1 1 1 0 0 0 0 0 0 0 1]\n",
      "[1 0 0 1 0 1 0 1 0 0 1 0]\n",
      "[0 0 0 0 0 1 1 1 1 0 1 0]\n",
      "[0 1 1 0 1 0 0 0 0 1 0 1]\n",
      "[0 1 1 1 0 0 0 0 1 0 1 0]\n",
      "[1 1 0 1 0 0 0 0 1 0 1 0]\n",
      "[0 1 0 0 1 1 1 0 0 0 0 1]\n",
      "[1 0 0 0 0 1 1 1 0 0 0 1]\n",
      "[0 0 0 0 1 0 1 1 1 1 0 0]\n",
      "[0 0 0 0 1 1 1 1 0 1 0 0]\n",
      "[1 0 0 0 1 1 1 0 0 0 0 1]\n",
      "[1 0 0 0 0 1 0 1 1 0 1 0]\n",
      "[1 0 1 1 0 0 0 0 1 0 1 0]\n",
      "[1 0 0 0 0 1 1 0 0 0 1 1]\n",
      "[0 1 1 0 1 0 0 0 1 1 0 0]\n"
     ]
    }
   ],
   "source": [
    "for x, y in zip(trn.X, trn.y):\n",
    "    if 5 == sum(x) and 1 == y:\n",
    "        print(x)"
   ]
  },
  {
   "cell_type": "markdown",
   "metadata": {},
   "source": [
    "Model training and save outputs."
   ]
  },
  {
   "cell_type": "code",
   "execution_count": 7,
   "metadata": {},
   "outputs": [],
   "source": [
    "# input_layer = keras.layers.Input((trn.X.shape[1],))\n",
    "# clayer = input_layer\n",
    "# for n in cfg['LAYER_DIMS']:\n",
    "#     clayer = keras.layers.Dense(n, \n",
    "#                                 activation=cfg['ACTIVATION'],\n",
    "#                                 kernel_initializer=keras.initializers.TruncatedNormal(mean=0.0, stddev=1/np.sqrt(float(n)), seed=None),\n",
    "#                                 bias_initializer='zeros'\n",
    "#                                )(clayer)\n",
    "# output_layer = keras.layers.Dense(trn.nb_classes, activation='softmax')(clayer)\n",
    "\n",
    "# model = keras.models.Model(inputs=input_layer, outputs=output_layer)\n",
    "# optimizer = keras.optimizers.TFOptimizer(tf.train.AdamOptimizer(learning_rate=cfg['SGD_LEARNINGRATE']))\n",
    "\n",
    "# model.compile(loss='categorical_crossentropy', optimizer=optimizer, metrics=['accuracy'])"
   ]
  },
  {
   "cell_type": "code",
   "execution_count": 8,
   "metadata": {},
   "outputs": [
    {
     "name": "stderr",
     "output_type": "stream",
     "text": [
      "WARNING: Logging before flag parsing goes to stderr.\n",
      "W0720 13:45:39.259304 139962540824384 deprecation_wrapper.py:119] From /usr/local/lib/python3.6/dist-packages/keras/backend/tensorflow_backend.py:74: The name tf.get_default_graph is deprecated. Please use tf.compat.v1.get_default_graph instead.\n",
      "\n",
      "W0720 13:45:39.293144 139962540824384 deprecation_wrapper.py:119] From /usr/local/lib/python3.6/dist-packages/keras/backend/tensorflow_backend.py:517: The name tf.placeholder is deprecated. Please use tf.compat.v1.placeholder instead.\n",
      "\n",
      "W0720 13:45:39.299849 139962540824384 deprecation_wrapper.py:119] From /usr/local/lib/python3.6/dist-packages/keras/backend/tensorflow_backend.py:4185: The name tf.truncated_normal is deprecated. Please use tf.random.truncated_normal instead.\n",
      "\n",
      "W0720 13:45:39.432785 139962540824384 deprecation_wrapper.py:119] From /usr/local/lib/python3.6/dist-packages/keras/backend/tensorflow_backend.py:4138: The name tf.random_uniform is deprecated. Please use tf.random.uniform instead.\n",
      "\n",
      "W0720 13:45:39.465670 139962540824384 deprecation_wrapper.py:119] From /usr/local/lib/python3.6/dist-packages/keras/optimizers.py:790: The name tf.train.Optimizer is deprecated. Please use tf.compat.v1.train.Optimizer instead.\n",
      "\n",
      "W0720 13:45:39.484757 139962540824384 deprecation_wrapper.py:119] From /usr/local/lib/python3.6/dist-packages/keras/backend/tensorflow_backend.py:3295: The name tf.log is deprecated. Please use tf.math.log instead.\n",
      "\n"
     ]
    }
   ],
   "source": [
    "input_layer = keras.layers.Input((trn.X.shape[1],))\n",
    "clayer = input_layer\n",
    "for n in cfg['LAYER_DIMS']:\n",
    "    clayer = keras.layers.Dense(n, \n",
    "                                kernel_initializer=keras.initializers.TruncatedNormal(mean=0.0, stddev=1/np.sqrt(float(n)), seed=None),\n",
    "                                bias_initializer='zeros'\n",
    "                               )(clayer)\n",
    "    clayer = keras.layers.ReLU(max_value=2)(clayer)\n",
    "output_layer = keras.layers.Dense(trn.nb_classes, activation='softmax')(clayer)\n",
    "\n",
    "model = keras.models.Model(inputs=input_layer, outputs=output_layer)\n",
    "optimizer = keras.optimizers.TFOptimizer(tf.train.AdamOptimizer(learning_rate=cfg['SGD_LEARNINGRATE']))\n",
    "\n",
    "model.compile(loss='categorical_crossentropy', optimizer=optimizer, metrics=['accuracy'])"
   ]
  },
  {
   "cell_type": "code",
   "execution_count": 9,
   "metadata": {
    "scrolled": true
   },
   "outputs": [
    {
     "name": "stderr",
     "output_type": "stream",
     "text": [
      "W0720 13:45:47.936053 139962540824384 deprecation.py:323] From /usr/local/lib/python3.6/dist-packages/tensorflow/python/ops/math_grad.py:1250: add_dispatch_support.<locals>.wrapper (from tensorflow.python.ops.array_ops) is deprecated and will be removed in a future version.\n",
      "Instructions for updating:\n",
      "Use tf.where in 2.0, which has the same broadcast rule as np.where\n"
     ]
    },
    {
     "name": "stdout",
     "output_type": "stream",
     "text": [
      "Making directory rawdata/relu2_10-7-5-4-3\n"
     ]
    },
    {
     "name": "stderr",
     "output_type": "stream",
     "text": [
      "/usr/local/lib/python3.6/dist-packages/keras/callbacks.py:99: UserWarning: Method on_batch_begin() is slow compared to the batch update (0.170591). Check your callbacks.\n",
      "  % delta_t_median)\n"
     ]
    },
    {
     "name": "stdout",
     "output_type": "stream",
     "text": [
      "Finished.\n"
     ]
    }
   ],
   "source": [
    "def do_report(epoch):\n",
    "    # Only log activity for some epochs.  Mainly this is to make things run faster.\n",
    "    if epoch < 20:       # Log for all first 20 epochs\n",
    "        return True\n",
    "    elif epoch < 100:    # Then for every 5th epoch\n",
    "        return (epoch % 5 == 0)\n",
    "    elif epoch < 2000:    # Then every 10th\n",
    "        return (epoch % 20 == 0)\n",
    "    else:                # Then every 100th\n",
    "        return (epoch % 100 == 0)\n",
    "    \n",
    "reporter = loggingreporter.LoggingReporter(cfg=cfg, \n",
    "                                          trn=trn, \n",
    "                                          tst=tst, \n",
    "                                          do_save_func=do_report)\n",
    "r = model.fit(x=trn.X, y=trn.Y, \n",
    "              verbose    = 0, \n",
    "              batch_size = cfg['SGD_BATCHSIZE'],\n",
    "              epochs     = cfg['NUM_EPOCHS'],\n",
    "              # validation_data=(tst.X, tst.Y),\n",
    "              callbacks  = [reporter,])\n",
    "\n",
    "print(\"Finished.\")"
   ]
  },
  {
   "cell_type": "code",
   "execution_count": 10,
   "metadata": {},
   "outputs": [
    {
     "data": {
      "text/plain": [
       "[<matplotlib.lines.Line2D at 0x7f4b01b247f0>]"
      ]
     },
     "execution_count": 10,
     "metadata": {},
     "output_type": "execute_result"
    },
    {
     "data": {
      "image/png": "[encoded data removed]",
      "text/plain": [
       "<Figure size 432x288 with 1 Axes>"
      ]
     },
     "metadata": {},
     "output_type": "display_data"
    }
   ],
   "source": [
    "%matplotlib inline\n",
    "import matplotlib.pyplot as plt\n",
    "import seaborn as sns\n",
    "sns.set_style('darkgrid')\n",
    "\n",
    "plt.plot(r.history['loss'])"
   ]
  },
  {
   "cell_type": "code",
   "execution_count": null,
   "metadata": {},
   "outputs": [],
   "source": []
  }
 ],
 "metadata": {
  "kernelspec": {
   "display_name": "Python 3",
   "language": "python",
   "name": "python3"
  },
  "language_info": {
   "codemirror_mode": {
    "name": "ipython",
    "version": 3
   },
   "file_extension": ".py",
   "mimetype": "text/x-python",
   "name": "python",
   "nbconvert_exporter": "python",
   "pygments_lexer": "ipython3",
   "version": "3.6.8"
  },
  "varInspector": {
   "cols": {
    "lenName": 16,
    "lenType": 16,
    "lenVar": 40
   },
   "kernels_config": {
    "python": {
     "delete_cmd_postfix": "",
     "delete_cmd_prefix": "del ",
     "library": "var_list.py",
     "varRefreshCmd": "print(var_dic_list())"
    },
    "r": {
     "delete_cmd_postfix": ") ",
     "delete_cmd_prefix": "rm(",
     "library": "var_list.r",
     "varRefreshCmd": "cat(var_dic_list()) "
    }
   },
   "types_to_exclude": [
    "module",
    "function",
    "builtin_function_or_method",
    "instance",
    "_Feature"
   ],
   "window_display": false
  }
 },
 "nbformat": 4,
 "nbformat_minor": 1
}
